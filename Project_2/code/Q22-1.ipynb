{
 "cells": [
  {
   "cell_type": "code",
   "execution_count": 1,
   "metadata": {},
   "outputs": [
    {
     "name": "stderr",
     "output_type": "stream",
     "text": [
      "\n",
      "Attaching package: ‘igraph’\n",
      "\n",
      "The following objects are masked from ‘package:stats’:\n",
      "\n",
      "    decompose, spectrum\n",
      "\n",
      "The following object is masked from ‘package:base’:\n",
      "\n",
      "    union\n",
      "\n"
     ]
    }
   ],
   "source": [
    "library(igraph)\n",
    "library(data.table)"
   ]
  },
  {
   "cell_type": "code",
   "execution_count": 2,
   "metadata": {},
   "outputs": [],
   "source": [
    "neighbors = read.table(\"../gplus/109327480479767108490.feat\", colClasses = \"character\")\n",
    "edges = read.table(\"../gplus/109327480479767108490.edges\", colClasses = \"character\")\n",
    "colnames(neighbors)[1] = \"v1\"\n",
    "colnames(neighbors)[2] = \"v2\"\n",
    "neighbors <- subset(neighbors, select=c(\"v1\", \"v2\"))\n",
    "id = strsplit(\"../gplus/115625564993990145546\", \"/\")[[1]][[3]]\n",
    "edge_list = as.vector(t(edges))\n",
    "temp = neighbors[1]\n",
    "neighbors[1] = id\n",
    "neighbors[2] = temp\n",
    "g <- graph_from_data_frame(neighbors, directed = TRUE, vertices = NULL)\n",
    "g <- add_edges(g, edge_list)\n",
    "walktrap <- walktrap.community(g)\n",
    "color_vector = walktrap$membership+1\n",
    "vertex_vector = rep(4,vcount(g))\n",
    "vertex_vector[1]=6\n",
    "\n"
   ]
  },
  {
   "cell_type": "code",
   "execution_count": 5,
   "metadata": {},
   "outputs": [],
   "source": [
    "PATH = \"../gplus/109327480479767108490.circles\"\n",
    "openFile_circle = file(PATH, open=\"r\")\n",
    "linesInCircle = readLines(openFile_circle)\n",
    "circlemember = seq_len(0)\n",
    "a=seq_len(0)\n",
    "circlemember=seq_len(0)\n",
    "for (i in 1:length(linesInCircle)){\n",
    "    circlex=linesInCircle[i]\n",
    "    circlememberx= strsplit(circlex, \"\\t\")[[1]] \n",
    "    circlemember=c(circlemember,circlememberx)\n",
    "    a=c(a,(length(circlememberx)-1))\n",
    "}\n",
    "circlemember_new=unique(circlemember)"
   ]
  },
  {
   "cell_type": "code",
   "execution_count": 14,
   "metadata": {},
   "outputs": [],
   "source": [
    "counter_1 = 0\n",
    "counter_2 = 0\n",
    "counter_3 = 0\n",
    "counter_4 = 0\n",
    "for (i in circlemember_new) {\n",
    "    for (j in walktrap[[1]]) {\n",
    "        if (i == j) {\n",
    "            counter_1 = counter_1 + 1\n",
    "        }\n",
    "    }\n",
    "    for (j in walktrap[[2]]) {\n",
    "        if (i == j) {\n",
    "            counter_2 = counter_2 + 1\n",
    "        }\n",
    "    }\n",
    "    for (j in walktrap[[3]]) {\n",
    "        if (i == j) {\n",
    "            counter_3 = counter_3 + 1\n",
    "        }\n",
    "    }\n",
    "    for (j in walktrap[[4]]) {\n",
    "        if (i == j) {\n",
    "            counter_4 = counter_4 + 1\n",
    "        }\n",
    "    }\n",
    "}"
   ]
  },
  {
   "cell_type": "code",
   "execution_count": 16,
   "metadata": {},
   "outputs": [
    {
     "data": {
      "text/html": [
       "279"
      ],
      "text/latex": [
       "279"
      ],
      "text/markdown": [
       "279"
      ],
      "text/plain": [
       "[1] 279"
      ]
     },
     "metadata": {},
     "output_type": "display_data"
    },
    {
     "data": {
      "text/html": [
       "397"
      ],
      "text/latex": [
       "397"
      ],
      "text/markdown": [
       "397"
      ],
      "text/plain": [
       "[1] 397"
      ]
     },
     "metadata": {},
     "output_type": "display_data"
    },
    {
     "data": {
      "text/html": [
       "75"
      ],
      "text/latex": [
       "75"
      ],
      "text/markdown": [
       "75"
      ],
      "text/plain": [
       "[1] 75"
      ]
     },
     "metadata": {},
     "output_type": "display_data"
    },
    {
     "data": {
      "text/html": [
       "13"
      ],
      "text/latex": [
       "13"
      ],
      "text/markdown": [
       "13"
      ],
      "text/plain": [
       "[1] 13"
      ]
     },
     "metadata": {},
     "output_type": "display_data"
    }
   ],
   "source": [
    "counter_1\n",
    "counter_2\n",
    "counter_3\n",
    "counter_4"
   ]
  },
  {
   "cell_type": "code",
   "execution_count": 34,
   "metadata": {},
   "outputs": [
    {
     "name": "stdout",
     "output_type": "stream",
     "text": [
      "IGRAPH clustering walktrap, groups: 4, mod: 0.25\n",
      "+ groups:\n",
      "  $`1`\n",
      "    [1] \"115625564993990145546\" \"100503825046812729376\" \"104325067584851948777\"\n",
      "    [4] \"108567834396279634126\" \"100313939326501723707\" \"104234472305799957203\"\n",
      "    [7] \"103816904734882362405\" \"108275634427168524269\" \"117868703703555113568\"\n",
      "   [10] \"117030363682188586800\" \"106666583441331230789\" \"108966977675749613195\"\n",
      "   [13] \"100419651070659831274\" \"110180075390514020435\" \"118051225328941605360\"\n",
      "   [16] \"113879426945738643113\" \"114240951275429856694\" \"107223200089245371832\"\n",
      "   [19] \"117720626238470886461\" \"116513263615909171062\" \"115200251016762857369\"\n",
      "   [22] \"105132333276597958280\" \"104624318685712679364\" \"117728005959215009298\"\n",
      "   [25] \"105071214573869412365\" \"107165946846145779242\" \"112099950938836740503\"\n",
      "  + ... omitted several groups/vertices\n"
     ]
    }
   ],
   "source": [
    "print(walktrap)"
   ]
  },
  {
   "cell_type": "code",
   "execution_count": 36,
   "metadata": {},
   "outputs": [],
   "source": [
    "C <- matrix(0, nrow = 3, ncol = 4)\n",
    "col <- 1\n",
    "row <- 1\n",
    "for (i in 1:length(linesInCircle)){\n",
    "    circlex=linesInCircle[i]\n",
    "    circlememberx= strsplit(circlex, \"\\t\")[[1]]\n",
    "    for (j in 1:length(walktrap)) {\n",
    "        for (k in walktrap[[j]]) {\n",
    "            if (k %in% circlememberx) {\n",
    "                C[i, j] <- C[i, j] + 1\n",
    "            }\n",
    "        }\n",
    "    }\n",
    "    circlemember=c(circlemember,circlememberx)\n",
    "    a=c(a,(length(circlememberx)-1))\n",
    "}"
   ]
  },
  {
   "cell_type": "code",
   "execution_count": 37,
   "metadata": {},
   "outputs": [
    {
     "name": "stdout",
     "output_type": "stream",
     "text": [
      "     [,1] [,2] [,3] [,4]\n",
      "[1,]  251    4   75    0\n",
      "[2,]  267    4   75    0\n",
      "[3,]   13  393    0   13\n"
     ]
    }
   ],
   "source": [
    "print(C)"
   ]
  }
 ],
 "metadata": {
  "kernelspec": {
   "display_name": "R",
   "language": "R",
   "name": "ir"
  },
  "language_info": {
   "codemirror_mode": "r",
   "file_extension": ".r",
   "mimetype": "text/x-r-source",
   "name": "R",
   "pygments_lexer": "r",
   "version": "3.4.4"
  }
 },
 "nbformat": 4,
 "nbformat_minor": 2
}
