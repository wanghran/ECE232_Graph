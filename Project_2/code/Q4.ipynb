{
 "cells": [
  {
   "cell_type": "code",
   "execution_count": null,
   "metadata": {},
   "outputs": [],
   "source": [
    "library(igraph)\n",
    "# install.packages(\"ggplot2\")\n",
    "library(ggplot2)\n",
    "g <- read.graph('facebook_combined.txt', format = 'edgelist', directed = FALSE)"
   ]
  },
  {
   "cell_type": "markdown",
   "metadata": {},
   "source": [
    "## Problem 4"
   ]
  },
  {
   "cell_type": "code",
   "execution_count": null,
   "metadata": {},
   "outputs": [],
   "source": [
    "rdata = data.frame(x=seq(1,max(degree(g))+1), y=degree.distribution(g))\n",
    "# have a visual sense of the fitness of models\n",
    "ggplot(rdata, aes(x, y)) + geom_point(size = 1) +\n",
    "  stat_smooth(method = \"lm\", size = 1, se = FALSE, colour = \"red\")+\n",
    "  scale_x_continuous(trans='log10') + scale_y_continuous(trans='log10')"
   ]
  }
 ],
 "metadata": {
  "kernelspec": {
   "display_name": "R",
   "language": "R",
   "name": "ir"
  },
  "language_info": {
   "codemirror_mode": "r",
   "file_extension": ".r",
   "mimetype": "text/x-r-source",
   "name": "R",
   "pygments_lexer": "r",
   "version": "3.4.4"
  }
 },
 "nbformat": 4,
 "nbformat_minor": 2
}
