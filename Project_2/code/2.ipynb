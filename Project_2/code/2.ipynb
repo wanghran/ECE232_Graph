{
 "cells": [
  {
   "cell_type": "code",
   "execution_count": 8,
   "metadata": {},
   "outputs": [],
   "source": [
    "library(igraph)"
   ]
  },
  {
   "cell_type": "code",
   "execution_count": 11,
   "metadata": {},
   "outputs": [
    {
     "name": "stdout",
     "output_type": "stream",
     "text": [
      "[1] 57\n"
     ]
    }
   ],
   "source": [
    "PATH = \"../gplus/\"\n",
    "circle_files = dir(PATH, pattern = \"circles\")\n",
    "counter = 0\n",
    "for (i in circle_files) {\n",
    "    user_id = strsplit(i, \".circles\")\n",
    "    circlePATH = paste(PATH, i, sep = \"\")\n",
    "    openFile_circle = file(circlePATH[index], open=\"r\")\n",
    "    linesInCircle = readLines(openFile_circle)\n",
    "    close(openFile_circle)    \n",
    "    if (length(linesInCircle) > 2) {\n",
    "        counter = counter + 1  #number of personal networks with more than 2 circles\n",
    "    } \n",
    "}\n",
    "print(counter)"
   ]
  },
  {
   "cell_type": "code",
   "execution_count": 32,
   "metadata": {},
   "outputs": [],
   "source": [
    "target = c(\"../gplus/109327480479767108490\", \"../gplus/115625564993990145546\", \"../gplus/101373961279443806744\")\n",
    "for (i in target) {\n",
    "    featPATH = paste(i,\".feat\",sep = \"\")\n",
    "    edgePATH = paste(i,\".edges\",sep = \"\")\n",
    "    neighbors = read.table(featPATH, colClasses = \"character\")\n",
    "    edges = read.table(edgePATH, colClasses = \"character\")\n",
    "    id = strsplit(i, \"/\")[[1]][[3]]\n",
    "    edge_list = as.vector(t(edges))\n",
    "    temp = neighbors[1]\n",
    "    neighbors[1] = id\n",
    "    neighbors[2] = temp\n",
    "    \n",
    "}"
   ]
  },
  {
   "cell_type": "code",
   "execution_count": null,
   "metadata": {},
   "outputs": [],
   "source": []
  },
  {
   "cell_type": "code",
   "execution_count": null,
   "metadata": {},
   "outputs": [],
   "source": []
  },
  {
   "cell_type": "markdown",
   "metadata": {},
   "source": [
    "number of personal networks with more than 2 circles is 57"
   ]
  },
  {
   "cell_type": "markdown",
   "metadata": {},
   "source": [
    "modularity: 0.3206694, 0.240916, 0.4303983"
   ]
  }
 ],
 "metadata": {
  "kernelspec": {
   "display_name": "R",
   "language": "R",
   "name": "ir"
  },
  "language_info": {
   "codemirror_mode": "r",
   "file_extension": ".r",
   "mimetype": "text/x-r-source",
   "name": "R",
   "pygments_lexer": "r",
   "version": "3.4.4"
  }
 },
 "nbformat": 4,
 "nbformat_minor": 2
}
