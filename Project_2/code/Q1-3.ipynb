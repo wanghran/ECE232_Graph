{
 "cells": [
  {
   "cell_type": "code",
   "execution_count": null,
   "metadata": {},
   "outputs": [],
   "source": [
    "library(igraph)\n",
    "# install.packages(\"ggplot2\")\n",
    "library(ggplot2)\n",
    "g <- read.graph('facebook_combined.txt', format = 'edgelist', directed = FALSE)"
   ]
  },
  {
   "cell_type": "markdown",
   "metadata": {},
   "source": [
    "## Problem 1-3"
   ]
  },
  {
   "cell_type": "code",
   "execution_count": null,
   "metadata": {},
   "outputs": [],
   "source": [
    "#connectivity, diameter and degree\n",
    "conn<-is.connected(g)\n",
    "print(conn)\n",
    "d<-diameter(g)\n",
    "print(d)\n",
    "deg<-degree(g)\n",
    "dd<-degree.distribution(g)\n",
    "plot(dd,log ='xy', main = \"Degree Distribution of the Facebook Graph\", xlab = \"degree\", ylab = \"density\")\n",
    "d_average = mean(deg)\n",
    "print(d_average)"
   ]
  }
 ],
 "metadata": {
  "kernelspec": {
   "display_name": "R",
   "language": "R",
   "name": "ir"
  },
  "language_info": {
   "codemirror_mode": "r",
   "file_extension": ".r",
   "mimetype": "text/x-r-source",
   "name": "R",
   "pygments_lexer": "r",
   "version": "3.4.4"
  }
 },
 "nbformat": 4,
 "nbformat_minor": 2
}
