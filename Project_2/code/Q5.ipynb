{
 "cells": [
  {
   "cell_type": "code",
   "execution_count": null,
   "metadata": {},
   "outputs": [],
   "source": [
    "library(igraph)\n",
    "# install.packages(\"ggplot2\")\n",
    "library(ggplot2)\n",
    "g <- read.graph('facebook_combined.txt', format = 'edgelist', directed = FALSE)"
   ]
  },
  {
   "cell_type": "markdown",
   "metadata": {},
   "source": [
    "## Problem 5"
   ]
  },
  {
   "cell_type": "code",
   "execution_count": null,
   "metadata": {},
   "outputs": [],
   "source": [
    "sub_g1 = induced.subgraph(g, c(1, neighbors(g,1)))\n",
    "vertex_vector = rep(4,vcount(sub_g1))\n",
    "vertex_vector[1]=6\n",
    "vertex_color = rep(\"skyblue1\",vcount(sub_g1))\n",
    "vertex_color[1] =\"black\"\n",
    "plot.igraph(sub_g1,vertex.size=vertex_vector,vertex.label=NA,vertex.color=vertex_color)\n",
    "num_node = vcount(sub_g1)\n",
    "num_edge = ecount(sub_g1)\n",
    "print(num_node)\n",
    "print(num_edge)"
   ]
  }
 ],
 "metadata": {
  "kernelspec": {
   "display_name": "R",
   "language": "R",
   "name": "ir"
  },
  "language_info": {
   "codemirror_mode": "r",
   "file_extension": ".r",
   "mimetype": "text/x-r-source",
   "name": "R",
   "pygments_lexer": "r",
   "version": "3.4.4"
  }
 },
 "nbformat": 4,
 "nbformat_minor": 2
}
