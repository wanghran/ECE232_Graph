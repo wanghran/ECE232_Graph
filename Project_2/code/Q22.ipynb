{
 "cells": [
  {
   "cell_type": "markdown",
   "metadata": {},
   "source": [
    "## Problem 22"
   ]
  },
  {
   "cell_type": "code",
   "execution_count": 1,
   "metadata": {},
   "outputs": [
    {
     "name": "stderr",
     "output_type": "stream",
     "text": [
      "\n",
      "Attaching package: ‘igraph’\n",
      "\n",
      "The following objects are masked from ‘package:stats’:\n",
      "\n",
      "    decompose, spectrum\n",
      "\n",
      "The following object is masked from ‘package:base’:\n",
      "\n",
      "    union\n",
      "\n"
     ]
    }
   ],
   "source": [
    "library(igraph)\n",
    "library(data.table)"
   ]
  },
  {
   "cell_type": "code",
   "execution_count": 66,
   "metadata": {},
   "outputs": [],
   "source": [
    "neighbors = read.table(\"../gplus/109327480479767108490.feat\", colClasses = \"character\")\n",
    "edges = read.table(\"../gplus/109327480479767108490.edges\", colClasses = \"character\")\n",
    "colnames(neighbors)[1] = \"v1\"\n",
    "colnames(neighbors)[2] = \"v2\"\n",
    "neighbors <- subset(neighbors, select=c(\"v1\", \"v2\"))\n",
    "id = strsplit(\"../gplus/115625564993990145546\", \"/\")[[1]][[3]]\n",
    "edge_list = as.vector(t(edges))\n",
    "temp = neighbors[1]\n",
    "neighbors[1] = id\n",
    "neighbors[2] = temp\n",
    "g <- graph_from_data_frame(neighbors, directed = TRUE, vertices = NULL)\n",
    "g <- add_edges(g, edge_list)\n",
    "walktrap <- walktrap.community(g)\n",
    "color_vector = walktrap$membership+1\n",
    "vertex_vector = rep(4,vcount(g))\n",
    "vertex_vector[1]=6\n",
    "\n"
   ]
  },
  {
   "cell_type": "code",
   "execution_count": 67,
   "metadata": {},
   "outputs": [
    {
     "name": "stdout",
     "output_type": "stream",
     "text": [
      "[1] 330 346 419\n"
     ]
    }
   ],
   "source": [
    "PATH = \"../gplus/109327480479767108490.circles\"\n",
    "openFile_circle = file(PATH, open=\"r\")\n",
    "linesInCircle = readLines(openFile_circle)\n",
    "circlemember = seq_len(0)\n",
    "a=seq_len(0)\n",
    "circlemember=seq_len(0)\n",
    "for (i in 1:length(linesInCircle)){\n",
    "    circlex=linesInCircle[i]\n",
    "    circlememberx= strsplit(circlex, \"\\t\")[[1]] \n",
    "    circlemember=c(circlemember,circlememberx)\n",
    "    a=c(a,(length(circlememberx)-1))\n",
    "}\n",
    "circlemember_new=unique(circlemember)\n",
    "print(a)"
   ]
  },
  {
   "cell_type": "code",
   "execution_count": 68,
   "metadata": {},
   "outputs": [],
   "source": [
    "counter = rep(0, length(walktrap))\n",
    "for (i in circlemember_new) {\n",
    "    for (j in 1:length(walktrap)) {\n",
    "        if (i %in% walktrap[[j]]) {\n",
    "            counter[[j]] <- counter[[j]] + 1\n",
    "        }\n",
    "        \n",
    "    }\n",
    "}"
   ]
  },
  {
   "cell_type": "code",
   "execution_count": 69,
   "metadata": {},
   "outputs": [
    {
     "name": "stdout",
     "output_type": "stream",
     "text": [
      "[1] 279 397  75  13\n"
     ]
    }
   ],
   "source": [
    "print(counter)"
   ]
  },
  {
   "cell_type": "code",
   "execution_count": 70,
   "metadata": {},
   "outputs": [],
   "source": [
    "circlemember = seq_len(0)\n",
    "circlemember=seq_len(0)\n",
    "C <- matrix(0, nrow = 3, ncol = 4)\n",
    "col <- 1\n",
    "row <- 1\n",
    "for (i in 1:length(linesInCircle)){\n",
    "    circlex=linesInCircle[i]\n",
    "    circlememberx= strsplit(circlex, \"\\t\")[[1]]\n",
    "    for (j in 1:length(walktrap)) {\n",
    "        for (k in walktrap[[j]]) {\n",
    "            if (k %in% circlememberx) {\n",
    "                C[i, j] <- C[i, j] + 1\n",
    "            }\n",
    "        }\n",
    "    }\n",
    "    circlemember=c(circlemember,circlememberx)\n",
    "}\n"
   ]
  },
  {
   "cell_type": "code",
   "execution_count": 71,
   "metadata": {},
   "outputs": [
    {
     "name": "stdout",
     "output_type": "stream",
     "text": [
      "     [,1] [,2] [,3] [,4]\n",
      "[1,]  251    4   75    0\n",
      "[2,]  267    4   75    0\n",
      "[3,]   13  393    0   13\n"
     ]
    }
   ],
   "source": [
    "print(C)"
   ]
  },
  {
   "cell_type": "code",
   "execution_count": 77,
   "metadata": {},
   "outputs": [
    {
     "name": "stdout",
     "output_type": "stream",
     "text": [
      "[1] 764\n",
      "[1] 1.050779\n"
     ]
    }
   ],
   "source": [
    "N=length(circlemember_new)-3\n",
    "print(N)\n",
    "\n",
    "HC=0\n",
    "for (i in 1:length(linesInCircle)){\n",
    "    HC=HC-(a[i]/N*(log(a[i]/N)))\n",
    "    }\n",
    "print(HC)"
   ]
  },
  {
   "cell_type": "code",
   "execution_count": 76,
   "metadata": {},
   "outputs": [
    {
     "name": "stdout",
     "output_type": "stream",
     "text": [
      "[1] 0.3678695\n",
      "[1] 0.708038\n",
      "[1] 0.9358927\n",
      "[1] 1.005208\n",
      "[1] 1.005208\n"
     ]
    }
   ],
   "source": [
    "HK=0\n",
    "for (i in 1:length(counter)){\n",
    "    HK=HK-(counter[i]/N*(log(counter[i]/N)))\n",
    "    print(HK)\n",
    "}\n",
    "print(HK)"
   ]
  },
  {
   "cell_type": "code",
   "execution_count": 94,
   "metadata": {},
   "outputs": [
    {
     "name": "stdout",
     "output_type": "stream",
     "text": [
      "[1] 0.1556361\n"
     ]
    }
   ],
   "source": [
    "HCK=0\n",
    "for (i in 1:length(linesInCircle)){\n",
    "    for (j in 1:length(counter)){\n",
    "        log=log(C[i,j]/counter[j])\n",
    "        if (C[i,j]/counter[j]==0){\n",
    "            log=0\n",
    "        }\n",
    "        HCK=HCK-((C[i,j]/N)*log)\n",
    "    }\n",
    "}\n",
    "print(HCK)"
   ]
  },
  {
   "cell_type": "code",
   "execution_count": 101,
   "metadata": {},
   "outputs": [
    {
     "name": "stdout",
     "output_type": "stream",
     "text": [
      "[1] 0.6736162\n"
     ]
    }
   ],
   "source": [
    "HKC=0\n",
    "for (i in 1:length(linesInCircle)){\n",
    "    for (j in 1:length(counter)){\n",
    "        log=log(C[i,j]/a[i])\n",
    "        if (C[i,j]/counter[j]==0){\n",
    "            log=0\n",
    "        }\n",
    "        HKC=HKC-((C[i,j]/N)*log)\n",
    "    }\n",
    "}\n",
    "print(HKC)"
   ]
  },
  {
   "cell_type": "code",
   "execution_count": 103,
   "metadata": {},
   "outputs": [
    {
     "name": "stdout",
     "output_type": "stream",
     "text": [
      "[1] 0.2108217\n",
      "[1] 0.3298739\n"
     ]
    }
   ],
   "source": [
    "h1=1-(HCK/HC)\n",
    "print(h1)\n",
    "c1=1-(HKC/HK)\n",
    "print(c1)"
   ]
  },
  {
   "cell_type": "code",
   "execution_count": 38,
   "metadata": {},
   "outputs": [
    {
     "name": "stdout",
     "output_type": "stream",
     "text": [
      "[1] 0.3128763\n"
     ]
    }
   ],
   "source": [
    "neighbors = read.table(\"../gplus/115625564993990145546.feat\", colClasses = \"character\")\n",
    "edges = read.table(\"../gplus/115625564993990145546.edges\", colClasses = \"character\")\n",
    "colnames(neighbors)[1] = \"v1\"\n",
    "colnames(neighbors)[2] = \"v2\"\n",
    "neighbors <- subset(neighbors, select=c(\"v1\", \"v2\"))\n",
    "id = strsplit(\"../gplus/115625564993990145546\", \"/\")[[1]][[3]]\n",
    "edge_list = as.vector(t(edges))\n",
    "temp = neighbors[1]\n",
    "neighbors[1] = id\n",
    "neighbors[2] = temp\n",
    "g <- graph_from_data_frame(neighbors, directed = TRUE, vertices = NULL)\n",
    "g <- add_edges(g, edge_list)\n",
    "walktrap <- walktrap.community(g)\n",
    "color_vector = walktrap$membership+1\n",
    "vertex_vector = rep(4,vcount(g))\n",
    "vertex_vector[1]=6\n",
    "print(modularity(walktrap))"
   ]
  },
  {
   "cell_type": "code",
   "execution_count": 107,
   "metadata": {},
   "outputs": [
    {
     "name": "stdout",
     "output_type": "stream",
     "text": [
      "[1] 0.3128763\n"
     ]
    }
   ],
   "source": [
    "neighbors = read.table(\"../gplus/115625564993990145546.feat\", colClasses = \"character\")\n",
    "edges = read.table(\"../gplus/115625564993990145546.edges\", colClasses = \"character\")\n",
    "colnames(neighbors)[1] = \"v1\"\n",
    "colnames(neighbors)[2] = \"v2\"\n",
    "neighbors <- subset(neighbors, select=c(\"v1\", \"v2\"))\n",
    "id = strsplit(\"../gplus/115625564993990145546\", \"/\")[[1]][[3]]\n",
    "edge_list = as.vector(t(edges))\n",
    "temp = neighbors[1]\n",
    "neighbors[1] = id\n",
    "neighbors[2] = temp\n",
    "g <- graph_from_data_frame(neighbors, directed = TRUE, vertices = NULL)\n",
    "g <- add_edges(g, edge_list)\n",
    "walktrap <- walktrap.community(g)\n",
    "color_vector = walktrap$membership+1\n",
    "vertex_vector = rep(4,vcount(g))\n",
    "vertex_vector[1]=6\n",
    "print(modularity(walktrap))"
   ]
  },
  {
   "cell_type": "code",
   "execution_count": 108,
   "metadata": {},
   "outputs": [
    {
     "name": "stdout",
     "output_type": "stream",
     "text": [
      " [1]   6   9 169 276 325  93  73 338  46  62 338 255 485   7 260 363 188 327 314\n",
      "[20]  48 489 276  79 373  67  10 354  73 300 362 102\n"
     ]
    }
   ],
   "source": [
    "PATH = \"../gplus/115625564993990145546.circles\"\n",
    "openFile_circle = file(PATH, open=\"r\")\n",
    "linesInCircle = readLines(openFile_circle)\n",
    "circlemember = seq_len(0)\n",
    "a=seq_len(0)\n",
    "circlemember=seq_len(0)\n",
    "for (i in 1:length(linesInCircle)){\n",
    "    circlex=linesInCircle[i]\n",
    "    circlememberx= strsplit(circlex, \"\\t\")[[1]] \n",
    "    circlemember=c(circlemember,circlememberx)\n",
    "    a=c(a,(length(circlememberx)-1))\n",
    "}\n",
    "circlemember_new=unique(circlemember)\n",
    "print(a)"
   ]
  },
  {
   "cell_type": "code",
   "execution_count": 109,
   "metadata": {},
   "outputs": [],
   "source": [
    "counter = rep(0, length(walktrap))\n",
    "for (i in circlemember_new) {\n",
    "    for (j in 1:length(walktrap)) {\n",
    "        if (i %in% walktrap[[j]]) {\n",
    "            counter[[j]] <- counter[[j]] + 1\n",
    "        }\n",
    "        \n",
    "    }\n",
    "}"
   ]
  },
  {
   "cell_type": "code",
   "execution_count": 110,
   "metadata": {},
   "outputs": [
    {
     "name": "stdout",
     "output_type": "stream",
     "text": [
      " [1]   1   6   0 165 231 323   1   0   0   0   0   0   0   0   0   0   0   0   0\n",
      "[20]   0   0   0   0   0   0   0   0   0   0   0   0   0   0   0\n"
     ]
    }
   ],
   "source": [
    "print(counter)"
   ]
  },
  {
   "cell_type": "code",
   "execution_count": 112,
   "metadata": {},
   "outputs": [],
   "source": [
    "circlemember = seq_len(0)\n",
    "circlemember=seq_len(0)\n",
    "C <- matrix(0, nrow = length(linesInCircle), ncol = length(counter))\n",
    "col <- 1\n",
    "row <- 1\n",
    "for (i in 1:length(linesInCircle)){\n",
    "    circlex=linesInCircle[i]\n",
    "    circlememberx= strsplit(circlex, \"\\t\")[[1]]\n",
    "    for (j in 1:length(walktrap)) {\n",
    "        for (k in walktrap[[j]]) {\n",
    "            if (k %in% circlememberx) {\n",
    "                C[i, j] <- C[i, j] + 1\n",
    "            }\n",
    "        }\n",
    "    }\n",
    "    circlemember=c(circlemember,circlememberx)\n",
    "}"
   ]
  },
  {
   "cell_type": "code",
   "execution_count": 113,
   "metadata": {},
   "outputs": [
    {
     "name": "stdout",
     "output_type": "stream",
     "text": [
      "      [,1] [,2] [,3] [,4] [,5] [,6] [,7] [,8] [,9] [,10] [,11] [,12] [,13]\n",
      " [1,]    0    0    0    3    0    3    0    0    0     0     0     0     0\n",
      " [2,]    0    0    0    4    0    5    0    0    0     0     0     0     0\n",
      " [3,]    0    3    0   18    0  148    0    0    0     0     0     0     0\n",
      " [4,]    0    3    0   21    0  252    0    0    0     0     0     0     0\n",
      " [5,]    0    1    0   39    0  285    0    0    0     0     0     0     0\n",
      " [6,]    0    3    0    8    0   82    0    0    0     0     0     0     0\n",
      " [7,]    0    0    0   63    0   10    0    0    0     0     0     0     0\n",
      " [8,]    0    2    0   86  229   21    0    0    0     0     0     0     0\n",
      " [9,]    0    1    0   31    1   13    0    0    0     0     0     0     0\n",
      "[10,]    0    0    0   57    0    5    0    0    0     0     0     0     0\n",
      "[11,]    0    4    0   88   77  168    1    0    0     0     0     0     0\n",
      "[12,]    0    2    0   20  229    4    0    0    0     0     0     0     0\n",
      "[13,]    1    3    0  143   36  302    0    0    0     0     0     0     0\n",
      "[14,]    0    0    0    4    0    3    0    0    0     0     0     0     0\n",
      "[15,]    0    2    0   23  229    6    0    0    0     0     0     0     0\n",
      "[16,]    0    1    0   65    1  296    0    0    0     0     0     0     0\n",
      "[17,]    0    0    0   35    0  153    0    0    0     0     0     0     0\n",
      "[18,]    0    1    0   40    1  285    0    0    0     0     0     0     0\n",
      "[19,]    0    1    0   34    0  279    0    0    0     0     0     0     0\n",
      "[20,]    0    1    0   32    1   14    0    0    0     0     0     0     0\n",
      "[21,]    1    2    0  108  158  220    0    0    0     0     0     0     0\n",
      "[22,]    0    1    0   23    0  252    0    0    0     0     0     0     0\n",
      "[23,]    0    1    0   26    2   50    0    0    0     0     0     0     0\n",
      "[24,]    1    2    0   70    1  299    0    0    0     0     0     0     0\n",
      "[25,]    1    1    0   24    2   39    0    0    0     0     0     0     0\n",
      "[26,]    0    0    0    4    0    6    0    0    0     0     0     0     0\n",
      "[27,]    0    1    0   58    1  294    0    0    0     0     0     0     0\n",
      "[28,]    0    2    0    4    0   67    0    0    0     0     0     0     0\n",
      "[29,]    0    1    0   30    0  269    0    0    0     0     0     0     0\n",
      "[30,]    0    1    0   63    1  297    0    0    0     0     0     0     0\n",
      "[31,]    0    2    0   35    3   62    0    0    0     0     0     0     0\n",
      "      [,14] [,15] [,16] [,17] [,18] [,19] [,20] [,21] [,22] [,23] [,24] [,25]\n",
      " [1,]     0     0     0     0     0     0     0     0     0     0     0     0\n",
      " [2,]     0     0     0     0     0     0     0     0     0     0     0     0\n",
      " [3,]     0     0     0     0     0     0     0     0     0     0     0     0\n",
      " [4,]     0     0     0     0     0     0     0     0     0     0     0     0\n",
      " [5,]     0     0     0     0     0     0     0     0     0     0     0     0\n",
      " [6,]     0     0     0     0     0     0     0     0     0     0     0     0\n",
      " [7,]     0     0     0     0     0     0     0     0     0     0     0     0\n",
      " [8,]     0     0     0     0     0     0     0     0     0     0     0     0\n",
      " [9,]     0     0     0     0     0     0     0     0     0     0     0     0\n",
      "[10,]     0     0     0     0     0     0     0     0     0     0     0     0\n",
      "[11,]     0     0     0     0     0     0     0     0     0     0     0     0\n",
      "[12,]     0     0     0     0     0     0     0     0     0     0     0     0\n",
      "[13,]     0     0     0     0     0     0     0     0     0     0     0     0\n",
      "[14,]     0     0     0     0     0     0     0     0     0     0     0     0\n",
      "[15,]     0     0     0     0     0     0     0     0     0     0     0     0\n",
      "[16,]     0     0     0     0     0     0     0     0     0     0     0     0\n",
      "[17,]     0     0     0     0     0     0     0     0     0     0     0     0\n",
      "[18,]     0     0     0     0     0     0     0     0     0     0     0     0\n",
      "[19,]     0     0     0     0     0     0     0     0     0     0     0     0\n",
      "[20,]     0     0     0     0     0     0     0     0     0     0     0     0\n",
      "[21,]     0     0     0     0     0     0     0     0     0     0     0     0\n",
      "[22,]     0     0     0     0     0     0     0     0     0     0     0     0\n",
      "[23,]     0     0     0     0     0     0     0     0     0     0     0     0\n",
      "[24,]     0     0     0     0     0     0     0     0     0     0     0     0\n",
      "[25,]     0     0     0     0     0     0     0     0     0     0     0     0\n",
      "[26,]     0     0     0     0     0     0     0     0     0     0     0     0\n",
      "[27,]     0     0     0     0     0     0     0     0     0     0     0     0\n",
      "[28,]     0     0     0     0     0     0     0     0     0     0     0     0\n",
      "[29,]     0     0     0     0     0     0     0     0     0     0     0     0\n",
      "[30,]     0     0     0     0     0     0     0     0     0     0     0     0\n",
      "[31,]     0     0     0     0     0     0     0     0     0     0     0     0\n",
      "      [,26] [,27] [,28] [,29] [,30] [,31] [,32] [,33] [,34]\n",
      " [1,]     0     0     0     0     0     0     0     0     0\n",
      " [2,]     0     0     0     0     0     0     0     0     0\n",
      " [3,]     0     0     0     0     0     0     0     0     0\n",
      " [4,]     0     0     0     0     0     0     0     0     0\n",
      " [5,]     0     0     0     0     0     0     0     0     0\n",
      " [6,]     0     0     0     0     0     0     0     0     0\n",
      " [7,]     0     0     0     0     0     0     0     0     0\n",
      " [8,]     0     0     0     0     0     0     0     0     0\n",
      " [9,]     0     0     0     0     0     0     0     0     0\n",
      "[10,]     0     0     0     0     0     0     0     0     0\n",
      "[11,]     0     0     0     0     0     0     0     0     0\n",
      "[12,]     0     0     0     0     0     0     0     0     0\n",
      "[13,]     0     0     0     0     0     0     0     0     0\n",
      "[14,]     0     0     0     0     0     0     0     0     0\n",
      "[15,]     0     0     0     0     0     0     0     0     0\n",
      "[16,]     0     0     0     0     0     0     0     0     0\n",
      "[17,]     0     0     0     0     0     0     0     0     0\n",
      "[18,]     0     0     0     0     0     0     0     0     0\n",
      "[19,]     0     0     0     0     0     0     0     0     0\n",
      "[20,]     0     0     0     0     0     0     0     0     0\n",
      "[21,]     0     0     0     0     0     0     0     0     0\n",
      "[22,]     0     0     0     0     0     0     0     0     0\n",
      "[23,]     0     0     0     0     0     0     0     0     0\n",
      "[24,]     0     0     0     0     0     0     0     0     0\n",
      "[25,]     0     0     0     0     0     0     0     0     0\n",
      "[26,]     0     0     0     0     0     0     0     0     0\n",
      "[27,]     0     0     0     0     0     0     0     0     0\n",
      "[28,]     0     0     0     0     0     0     0     0     0\n",
      "[29,]     0     0     0     0     0     0     0     0     0\n",
      "[30,]     0     0     0     0     0     0     0     0     0\n",
      "[31,]     0     0     0     0     0     0     0     0     0\n"
     ]
    }
   ],
   "source": [
    "print(C)"
   ]
  },
  {
   "cell_type": "code",
   "execution_count": 114,
   "metadata": {},
   "outputs": [
    {
     "name": "stdout",
     "output_type": "stream",
     "text": [
      "[1] 755\n",
      "[1] 8.474911\n"
     ]
    }
   ],
   "source": [
    "N=length(circlemember_new)-3\n",
    "print(N)\n",
    "\n",
    "HC=0\n",
    "for (i in 1:length(linesInCircle)){\n",
    "    HC=HC-(a[i]/N*(log(a[i]/N)))\n",
    "    }\n",
    "print(HC)"
   ]
  },
  {
   "cell_type": "code",
   "execution_count": 117,
   "metadata": {},
   "outputs": [
    {
     "name": "stdout",
     "output_type": "stream",
     "text": [
      "[1] 1.113923\n"
     ]
    }
   ],
   "source": [
    "HK=0\n",
    "for (i in 1:length(counter)){\n",
    "    log=log(counter[i]/N)\n",
    "    if (counter[i]/N==0){\n",
    "        log=0\n",
    "    }\n",
    "    HK=HK-(counter[i]/N*(log))\n",
    "}\n",
    "print(HK)"
   ]
  },
  {
   "cell_type": "code",
   "execution_count": 122,
   "metadata": {},
   "outputs": [
    {
     "name": "stdout",
     "output_type": "stream",
     "text": [
      "[1] 4.441321\n"
     ]
    }
   ],
   "source": [
    "HCK=0\n",
    "for (i in 1:length(linesInCircle)){\n",
    "    for (j in 1:length(counter)){\n",
    "        log=log(C[i,j]/counter[j])\n",
    "        if (C[i,j] == 0 ||counter[j]==0){\n",
    "            log=0\n",
    "        }\n",
    "        HCK=HCK-((C[i,j]/N)*log)\n",
    "    }\n",
    "}\n",
    "print(HCK)"
   ]
  },
  {
   "cell_type": "code",
   "execution_count": 123,
   "metadata": {},
   "outputs": [
    {
     "name": "stdout",
     "output_type": "stream",
     "text": [
      "[1] 5.050819\n"
     ]
    }
   ],
   "source": [
    "HKC=0\n",
    "for (i in 1:length(linesInCircle)){\n",
    "    for (j in 1:length(counter)){\n",
    "        log=log(C[i,j]/a[i])\n",
    "        if (C[i,j]==0||counter[j]==0){\n",
    "            log=0\n",
    "        }\n",
    "        HKC=HKC-((C[i,j]/N)*log)\n",
    "    }\n",
    "}\n",
    "print(HKC)"
   ]
  },
  {
   "cell_type": "code",
   "execution_count": 126,
   "metadata": {},
   "outputs": [
    {
     "name": "stdout",
     "output_type": "stream",
     "text": [
      "[1] 0.4759448\n",
      "[1] -3.534262\n"
     ]
    }
   ],
   "source": [
    "h2=1-(HCK/HC)\n",
    "print(h2)\n",
    "c2=1-(HKC/HK)\n",
    "print(c2)\n"
   ]
  },
  {
   "cell_type": "code",
   "execution_count": 127,
   "metadata": {},
   "outputs": [],
   "source": [
    "edges = fread(\"../gplus/101373961279443806744.edges\", colClasses = \"character\")\n",
    "neighbors = fread(\"../gplus/101373961279443806744.feat\", colClasses = \"character\", select=c(1,2))\n",
    "id = strsplit(\"../gplus/101373961279443806744\", \"/\")[[1]][[3]]\n",
    "temp = neighbors[, 1]\n",
    "neighbors[, 1] = id\n",
    "neighbors[, 2] = temp\n",
    "colnames(edges )[1] = \"v1\"\n",
    "colnames(edges)[2] = \"v2\"\n",
    "colnames(neighbors)[1] = \"v1\"\n",
    "colnames(neighbors)[2] = \"v2\"\n",
    "result <- rbind(neighbors, edges)\n",
    "g <- graph_from_data_frame(result, directed = TRUE, vertices = NULL)\n",
    "walktrap <- walktrap.community(g)\n",
    "color_vector = walktrap$membership+1\n",
    "vertex_vector = rep(4,vcount(g))\n",
    "vertex_vector[1]=6"
   ]
  },
  {
   "cell_type": "code",
   "execution_count": 128,
   "metadata": {},
   "outputs": [
    {
     "name": "stdout",
     "output_type": "stream",
     "text": [
      "[1] 471 445 430\n"
     ]
    }
   ],
   "source": [
    "PATH = \"../gplus/101373961279443806744.circles\"\n",
    "openFile_circle = file(PATH, open=\"r\")\n",
    "linesInCircle = readLines(openFile_circle)\n",
    "circlemember = seq_len(0)\n",
    "a=seq_len(0)\n",
    "circlemember=seq_len(0)\n",
    "for (i in 1:length(linesInCircle)){\n",
    "    circlex=linesInCircle[i]\n",
    "    circlememberx= strsplit(circlex, \"\\t\")[[1]] \n",
    "    circlemember=c(circlemember,circlememberx)\n",
    "    a=c(a,(length(circlememberx)-1))\n",
    "}\n",
    "circlemember_new=unique(circlemember)\n",
    "print(a)"
   ]
  },
  {
   "cell_type": "code",
   "execution_count": 129,
   "metadata": {},
   "outputs": [],
   "source": [
    "counter = rep(0, length(walktrap))\n",
    "for (i in circlemember_new) {\n",
    "    for (j in 1:length(walktrap)) {\n",
    "        if (i %in% walktrap[[j]]) {\n",
    "            counter[[j]] <- counter[[j]] + 1\n",
    "        }\n",
    "        \n",
    "    }\n",
    "}"
   ]
  },
  {
   "cell_type": "code",
   "execution_count": 130,
   "metadata": {},
   "outputs": [
    {
     "name": "stdout",
     "output_type": "stream",
     "text": [
      " [1]  10  93   0 394  24   0   0   0   0   0   0   0   0   0   0   0   0   0   0\n",
      "[20]   0   0   0   0   0   0   0   0   0   0   0   0   0   0   0   0   0   0   0\n",
      "[39]   0   0   0   0   0   0   0   0   0   0   0\n"
     ]
    }
   ],
   "source": [
    "print(counter)"
   ]
  },
  {
   "cell_type": "code",
   "execution_count": 131,
   "metadata": {},
   "outputs": [],
   "source": [
    "circlemember = seq_len(0)\n",
    "circlemember=seq_len(0)\n",
    "C <- matrix(0, nrow = length(linesInCircle), ncol = length(counter))\n",
    "col <- 1\n",
    "row <- 1\n",
    "for (i in 1:length(linesInCircle)){\n",
    "    circlex=linesInCircle[i]\n",
    "    circlememberx= strsplit(circlex, \"\\t\")[[1]]\n",
    "    for (j in 1:length(walktrap)) {\n",
    "        for (k in walktrap[[j]]) {\n",
    "            if (k %in% circlememberx) {\n",
    "                C[i, j] <- C[i, j] + 1\n",
    "            }\n",
    "        }\n",
    "    }\n",
    "    circlemember=c(circlemember,circlememberx)\n",
    "}"
   ]
  },
  {
   "cell_type": "code",
   "execution_count": 132,
   "metadata": {},
   "outputs": [
    {
     "name": "stdout",
     "output_type": "stream",
     "text": [
      "     [,1] [,2] [,3] [,4] [,5] [,6] [,7] [,8] [,9] [,10] [,11] [,12] [,13] [,14]\n",
      "[1,]    8   88    0  355   20    0    0    0    0     0     0     0     0     0\n",
      "[2,]    8   81    0  340   16    0    0    0    0     0     0     0     0     0\n",
      "[3,]    7   83    0  320   20    0    0    0    0     0     0     0     0     0\n",
      "     [,15] [,16] [,17] [,18] [,19] [,20] [,21] [,22] [,23] [,24] [,25] [,26]\n",
      "[1,]     0     0     0     0     0     0     0     0     0     0     0     0\n",
      "[2,]     0     0     0     0     0     0     0     0     0     0     0     0\n",
      "[3,]     0     0     0     0     0     0     0     0     0     0     0     0\n",
      "     [,27] [,28] [,29] [,30] [,31] [,32] [,33] [,34] [,35] [,36] [,37] [,38]\n",
      "[1,]     0     0     0     0     0     0     0     0     0     0     0     0\n",
      "[2,]     0     0     0     0     0     0     0     0     0     0     0     0\n",
      "[3,]     0     0     0     0     0     0     0     0     0     0     0     0\n",
      "     [,39] [,40] [,41] [,42] [,43] [,44] [,45] [,46] [,47] [,48] [,49]\n",
      "[1,]     0     0     0     0     0     0     0     0     0     0     0\n",
      "[2,]     0     0     0     0     0     0     0     0     0     0     0\n",
      "[3,]     0     0     0     0     0     0     0     0     0     0     0\n"
     ]
    }
   ],
   "source": [
    "print(C)"
   ]
  },
  {
   "cell_type": "code",
   "execution_count": 133,
   "metadata": {},
   "outputs": [
    {
     "name": "stdout",
     "output_type": "stream",
     "text": [
      "[1] 521\n",
      "[1] 0.38432\n"
     ]
    }
   ],
   "source": [
    "N=length(circlemember_new)-3\n",
    "print(N)\n",
    "\n",
    "HC=0\n",
    "for (i in 1:length(linesInCircle)){\n",
    "    HC=HC-(a[i]/N*(log(a[i]/N)))\n",
    "    }\n",
    "print(HC)"
   ]
  },
  {
   "cell_type": "code",
   "execution_count": 134,
   "metadata": {},
   "outputs": [
    {
     "name": "stdout",
     "output_type": "stream",
     "text": [
      "[1] 0.7365309\n"
     ]
    }
   ],
   "source": [
    "HK=0\n",
    "for (i in 1:length(counter)){\n",
    "    log=log(counter[i]/N)\n",
    "    if (counter[i]/N==0){\n",
    "        log=0\n",
    "    }\n",
    "    HK=HK-(counter[i]/N*(log))\n",
    "}\n",
    "print(HK)"
   ]
  },
  {
   "cell_type": "code",
   "execution_count": 135,
   "metadata": {},
   "outputs": [
    {
     "name": "stdout",
     "output_type": "stream",
     "text": [
      "[1] 0.3820206\n"
     ]
    }
   ],
   "source": [
    "HCK=0\n",
    "for (i in 1:length(linesInCircle)){\n",
    "    for (j in 1:length(counter)){\n",
    "        log=log(C[i,j]/counter[j])\n",
    "        if (C[i,j] == 0 ||counter[j]==0){\n",
    "            log=0\n",
    "        }\n",
    "        HCK=HCK-((C[i,j]/N)*log)\n",
    "    }\n",
    "}\n",
    "print(HCK)"
   ]
  },
  {
   "cell_type": "code",
   "execution_count": 136,
   "metadata": {},
   "outputs": [
    {
     "name": "stdout",
     "output_type": "stream",
     "text": [
      "[1] 1.880806\n"
     ]
    }
   ],
   "source": [
    "HKC=0\n",
    "for (i in 1:length(linesInCircle)){\n",
    "    for (j in 1:length(counter)){\n",
    "        log=log(C[i,j]/a[i])\n",
    "        if (C[i,j]==0||counter[j]==0){\n",
    "            log=0\n",
    "        }\n",
    "        HKC=HKC-((C[i,j]/N)*log)\n",
    "    }\n",
    "}\n",
    "print(HKC)"
   ]
  },
  {
   "cell_type": "code",
   "execution_count": 138,
   "metadata": {},
   "outputs": [
    {
     "name": "stdout",
     "output_type": "stream",
     "text": [
      "[1] 0.005982916\n",
      "[1] -1.553601\n"
     ]
    }
   ],
   "source": [
    "h3=1-(HCK/HC)\n",
    "print(h3)\n",
    "c3=1-(HKC/HK)\n",
    "print(c3)"
   ]
  },
  {
   "cell_type": "code",
   "execution_count": null,
   "metadata": {},
   "outputs": [],
   "source": []
  }
 ],
 "metadata": {
  "kernelspec": {
   "display_name": "R",
   "language": "R",
   "name": "ir"
  },
  "language_info": {
   "codemirror_mode": "r",
   "file_extension": ".r",
   "mimetype": "text/x-r-source",
   "name": "R",
   "pygments_lexer": "r",
   "version": "3.4.4"
  }
 },
 "nbformat": 4,
 "nbformat_minor": 2
}
