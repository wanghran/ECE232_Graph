{
 "cells": [
  {
   "cell_type": "code",
   "execution_count": null,
   "metadata": {},
   "outputs": [],
   "source": [
    "library(igraph)\n",
    "# install.packages(\"ggplot2\")\n",
    "library(ggplot2)\n",
    "g <- read.graph('../facebook_combined.txt', format = 'edgelist', directed = FALSE)"
   ]
  },
  {
   "cell_type": "markdown",
   "metadata": {},
   "source": [
    "## Problem 16"
   ]
  },
  {
   "cell_type": "code",
   "execution_count": null,
   "metadata": {},
   "outputs": [],
   "source": [
    "Nr = seq_len(0)\n",
    "network_415 = induced.subgraph(g, c(415, neighbors(g,415)))\n",
    "for (i in V(network_415)) {\n",
    "    if (degree(network_415, v=i) == 24) {\n",
    "        Nr = c(Nr, i)\n",
    "    }\n",
    "}\n",
    "print(length(Nr))"
   ]
  }
 ],
 "metadata": {
  "kernelspec": {
   "display_name": "R",
   "language": "R",
   "name": "ir"
  },
  "language_info": {
   "codemirror_mode": "r",
   "file_extension": ".r",
   "mimetype": "text/x-r-source",
   "name": "R",
   "pygments_lexer": "r",
   "version": "3.4.4"
  }
 },
 "nbformat": 4,
 "nbformat_minor": 2
}
