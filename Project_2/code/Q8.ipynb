{
 "cells": [
  {
   "cell_type": "code",
   "execution_count": null,
   "metadata": {},
   "outputs": [],
   "source": [
    "library(igraph)\n",
    "# install.packages(\"ggplot2\")\n",
    "library(ggplot2)\n",
    "g <- read.graph('../facebook_combined.txt', format = 'edgelist', directed = FALSE)"
   ]
  },
  {
   "cell_type": "markdown",
   "metadata": {},
   "source": [
    "## Problem 8"
   ]
  },
  {
   "cell_type": "code",
   "execution_count": null,
   "metadata": {},
   "outputs": [],
   "source": [
    "core_index = numeric(0)\n",
    "core_degree = numeric(0)\n",
    "\n",
    "#find the core nodes\n",
    "for(i in 1: vcount(g)){\n",
    "  if(length(neighbors(g,i))>200){\n",
    "    core_index = c(core_index, i)\n",
    "    core_degree = c(core_degree, length(neighbors(g,i)))\n",
    "  }\n",
    "}\n",
    "core_ave_degree = mean(core_degree)\n",
    "print(length(core_index))\n",
    "print(core_ave_degree)"
   ]
  }
 ],
 "metadata": {
  "kernelspec": {
   "display_name": "R",
   "language": "R",
   "name": "ir"
  },
  "language_info": {
   "codemirror_mode": "r",
   "file_extension": ".r",
   "mimetype": "text/x-r-source",
   "name": "R",
   "pygments_lexer": "r",
   "version": "3.4.4"
  }
 },
 "nbformat": 4,
 "nbformat_minor": 2
}
