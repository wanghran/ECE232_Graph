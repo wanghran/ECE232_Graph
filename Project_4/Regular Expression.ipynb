{
 "cells": [
  {
   "cell_type": "markdown",
   "metadata": {},
   "source": [
    "# Regular Expression\n",
    "\n",
    "## What is it?\n",
    "\n",
    ">A regular expression, regex or regexp (sometimes called a rational expression) is, in theoretical computer science and formal language theory, a sequence of characters that define a search pattern. Usually this pattern is then used by string searching algorithms for \"find\" or \"find and replace\" operations on strings, or for input validation.\n",
    "<span style=\"margin-top: 0em; float: right;\">-- <a href=\"https://en.wikipedia.org/wiki/Regular_expression\">Wikipedia</a></span>\n",
    "\n",
    "## Why do we need it?\n",
    "\n",
    "<span style=\"font-size: large\">Task: find all legal ip addresses in a 10 GB textual file.</span>\n",
    "\n",
    "How do you plan to do that?\n",
    "\n",
    "How do you describe the rules that make a legal ip address after all?\n",
    "\n",
    "<span style=\"font-size: large\">A more relevant task: process the movie names in the imdb data provided in project 4, so that Python can know two movie names are referring to the same movie?</span>\n",
    "\n",
    "Why is this not trivial? See below for a tiny sample from `actress_movies.txt`\n",
    "\n",
    "|                      |                                 |                                |                                                                                    |                                                                               |                                                                               |     |\n",
    "|----------------------|---------------------------------|--------------------------------|------------------------------------------------------------------------------------|-------------------------------------------------------------------------------|-------------------------------------------------------------------------------|-----|\n",
    "| ***Marman, Lexi***         | **Baby I Try for You**              | Finding June (2013)            | **Modus Operandi (2010)  {{SUSPENDED}}**                                               | **Raw (2011/I)**                                                                  | This Is Normal (2013)                                                         | ... |\n",
    "| ***Orlova, Marina (III)*** | 2-Assa-2 (2008)                 | **Ironiya lyubvi (2010)  (voice)** | Naturshchitsa (2007)                                                               | Not So Young (2013)                                                           | **Stilyagi (2008)  (uncredited)**                                                 | ... |\n",
    "| ***Piesse, Bonnie***       |Like Ingrid Bergman (2012)| **Love Eterne**                    | My Saga (2016)                                                                     | **Star Wars: Episode II - Attack of the Clones (2002)  (as Bonnie Maree Piesse)** | **Star Wars: Episode III - Revenge of the Sith (2005)  (as Bonnie Maree Piesse)** | ... |\n",
    "| ***Portman, Natalie***     | **Isabella V (2010) {{SUSPENDED}}** | **Jackie (????)**                  | **Lego Star Wars: The Video Game (2005) (VG)  (voice) (archive footage) (uncredited)** | **Live Free or Die Hard (Project 12, 8/12) (2011)  (archive footage)**            | Star Wars: Episode II - Attack of the Clones (2002)                           | ... |\n",
    "\n",
    "Most movies in the dataset have name in the form `title (year)`, there are so many exceptions that cannot be ignored, as bolded in the table.\n",
    "\n",
    "**With regular expression, we can address such problem.**"
   ]
  },
  {
   "cell_type": "markdown",
   "metadata": {},
   "source": [
    "## How does it work?\n",
    "\n",
    "Let's forget about the tasks temporarily, and learn some basics of regular expression (regex).\n",
    "\n",
    "https://medium.com/factory-mind/regex-tutorial-a-simple-cheatsheet-by-examples-649dc1c3f285"
   ]
  },
  {
   "cell_type": "markdown",
   "metadata": {},
   "source": [
    "Now try to write a regular expression that matches 4 three-digit numbers separated by `.`"
   ]
  },
  {
   "cell_type": "markdown",
   "metadata": {},
   "source": [
    "However, legal ip address do not allow each of the 4 numbers be larger than 255."
   ]
  },
  {
   "cell_type": "markdown",
   "metadata": {},
   "source": [
    "`((2[0-4]\\d|25[0-5]|[01]?\\d\\d?)\\.){3}(2[0-4]\\d|25[0-5]|[01]?\\d\\d?)`"
   ]
  },
  {
   "cell_type": "markdown",
   "metadata": {},
   "source": [
    "### `re` module in Python\n",
    "\n",
    "https://docs.python.org/3/howto/regex.html#regex-howto"
   ]
  },
  {
   "cell_type": "code",
   "execution_count": 4,
   "metadata": {},
   "outputs": [
    {
     "name": "stdout",
     "output_type": "stream",
     "text": [
      "re.match(r'[ab]', 'cbb'):\tNone\n",
      "re.match(r'[ab]', 'bb'):\t<_sre.SRE_Match object; span=(0, 1), match='b'>\n",
      "re.match(r'[ab]', 'ab'):\t<_sre.SRE_Match object; span=(0, 1), match='a'>\n",
      "re.match(r'[ab]+', 'ab'):\t<_sre.SRE_Match object; span=(0, 2), match='ab'>\n"
     ]
    }
   ],
   "source": [
    "import re\n",
    "print(f\"re.match(r'[ab]', 'cbb'):\\t{re.match(r'[ab]', 'cbb')}\")     # Check matching from the beginning of the string\n",
    "print(f\"re.match(r'[ab]', 'bb'):\\t{re.match(r'[ab]', 'bb')}\")     # Matches the 1st letter and done\n",
    "print(f\"re.match(r'[ab]', 'ab'):\\t{re.match(r'[ab]', 'ab')}\")     # Same as above\n",
    "print(f\"re.match(r'[ab]+', 'ab'):\\t{re.match(r'[ab]+', 'ab')}\")   # The pattern can match multiple letters"
   ]
  },
  {
   "cell_type": "code",
   "execution_count": 3,
   "metadata": {},
   "outputs": [
    {
     "name": "stdout",
     "output_type": "stream",
     "text": [
      "re.search(r'[ab]', 'cbb'):\t<_sre.SRE_Match object; span=(1, 2), match='b'>\n"
     ]
    }
   ],
   "source": [
    "print(f\"re.search(r'[ab]', 'cbb'):\\t{re.search(r'[ab]', 'cbb')}\")   # Find the first occurrence"
   ]
  },
  {
   "cell_type": "code",
   "execution_count": 36,
   "metadata": {},
   "outputs": [
    {
     "name": "stdout",
     "output_type": "stream",
     "text": [
      "re.findall(r'[ab]', 'ab'):\t['a', 'b']\n"
     ]
    }
   ],
   "source": [
    "print(f\"re.findall(r'[ab]', 'ab'):\\t{re.findall(r'[ab]', 'ab')}\") # Find all occurrences"
   ]
  },
  {
   "cell_type": "markdown",
   "metadata": {},
   "source": [
    "#### Grouping"
   ]
  },
  {
   "cell_type": "code",
   "execution_count": 27,
   "metadata": {},
   "outputs": [
    {
     "data": {
      "text/plain": [
       "'abcd'"
      ]
     },
     "execution_count": 27,
     "metadata": {},
     "output_type": "execute_result"
    }
   ],
   "source": [
    "p = re.compile('(a(b)c)d')\n",
    "m = p.match('abcde')\n",
    "m.group(0)"
   ]
  },
  {
   "cell_type": "code",
   "execution_count": 19,
   "metadata": {
    "scrolled": true
   },
   "outputs": [
    {
     "data": {
      "text/plain": [
       "'abc'"
      ]
     },
     "execution_count": 19,
     "metadata": {},
     "output_type": "execute_result"
    }
   ],
   "source": [
    "m.group(1)"
   ]
  },
  {
   "cell_type": "code",
   "execution_count": 20,
   "metadata": {},
   "outputs": [
    {
     "data": {
      "text/plain": [
       "'b'"
      ]
     },
     "execution_count": 20,
     "metadata": {},
     "output_type": "execute_result"
    }
   ],
   "source": [
    "m.group(2)"
   ]
  },
  {
   "cell_type": "code",
   "execution_count": 29,
   "metadata": {},
   "outputs": [
    {
     "data": {
      "text/plain": [
       "'the the'"
      ]
     },
     "execution_count": 29,
     "metadata": {},
     "output_type": "execute_result"
    }
   ],
   "source": [
    "# named group\n",
    "p = re.compile(r'\\b(?P<word>\\w+)\\s+(?P=word)\\b')\n",
    "p.search('Paris in the the spring').group()"
   ]
  },
  {
   "cell_type": "code",
   "execution_count": 32,
   "metadata": {},
   "outputs": [
    {
     "data": {
      "text/plain": [
       "'the'"
      ]
     },
     "execution_count": 32,
     "metadata": {},
     "output_type": "execute_result"
    }
   ],
   "source": [
    "p.search('Paris in the the spring').group('word')"
   ]
  },
  {
   "cell_type": "markdown",
   "metadata": {},
   "source": [
    "#### Substitution"
   ]
  },
  {
   "cell_type": "code",
   "execution_count": null,
   "metadata": {},
   "outputs": [],
   "source": [
    "p = re.compile('section{ (?P<name> [^}]* ) }', re.VERBOSE)"
   ]
  },
  {
   "cell_type": "code",
   "execution_count": 11,
   "metadata": {},
   "outputs": [
    {
     "data": {
      "text/plain": [
       "{'name': 'First'}"
      ]
     },
     "execution_count": 11,
     "metadata": {},
     "output_type": "execute_result"
    }
   ],
   "source": [
    "p.match('section{First}').groupdict()"
   ]
  },
  {
   "cell_type": "code",
   "execution_count": 3,
   "metadata": {},
   "outputs": [
    {
     "data": {
      "text/plain": [
       "'subsection{First}'"
      ]
     },
     "execution_count": 3,
     "metadata": {},
     "output_type": "execute_result"
    }
   ],
   "source": [
    "p.sub(r'subsection{\\1}','section{First}')"
   ]
  },
  {
   "cell_type": "code",
   "execution_count": 4,
   "metadata": {},
   "outputs": [
    {
     "data": {
      "text/plain": [
       "'subsection{First}'"
      ]
     },
     "execution_count": 4,
     "metadata": {},
     "output_type": "execute_result"
    }
   ],
   "source": [
    "p.sub(r'subsection{\\g<1>}','section{First}')"
   ]
  },
  {
   "cell_type": "code",
   "execution_count": 5,
   "metadata": {},
   "outputs": [
    {
     "data": {
      "text/plain": [
       "'subsection{First}'"
      ]
     },
     "execution_count": 5,
     "metadata": {},
     "output_type": "execute_result"
    }
   ],
   "source": [
    "p.sub(r'subsection{\\g<name>}','section{First}')"
   ]
  }
 ],
 "metadata": {
  "kernelspec": {
   "display_name": "Python 3",
   "language": "python",
   "name": "python3"
  },
  "language_info": {
   "codemirror_mode": {
    "name": "ipython",
    "version": 3
   },
   "file_extension": ".py",
   "mimetype": "text/x-python",
   "name": "python",
   "nbconvert_exporter": "python",
   "pygments_lexer": "ipython3",
   "version": "3.6.5"
  }
 },
 "nbformat": 4,
 "nbformat_minor": 2
}
