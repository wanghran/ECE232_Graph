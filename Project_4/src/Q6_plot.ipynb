{
 "cells": [
  {
   "cell_type": "code",
   "execution_count": 1,
   "metadata": {},
   "outputs": [
    {
     "name": "stderr",
     "output_type": "stream",
     "text": [
      "\n",
      "Attaching package: ‘igraph’\n",
      "\n",
      "The following objects are masked from ‘package:stats’:\n",
      "\n",
      "    decompose, spectrum\n",
      "\n",
      "The following object is masked from ‘package:base’:\n",
      "\n",
      "    union\n",
      "\n"
     ]
    }
   ],
   "source": [
    "library('igraph')\n"
   ]
  },
  {
   "cell_type": "code",
   "execution_count": 4,
   "metadata": {},
   "outputs": [],
   "source": [
    "g <- read_graph('../output/movie_edge_list.txt', format='ncol', directed=FALSE)\n"
   ]
  },
  {
   "cell_type": "code",
   "execution_count": 3,
   "metadata": {},
   "outputs": [
    {
     "ename": "ERROR",
     "evalue": "Error in \"igraph\" %in% class(graph): object 'g' not found\n",
     "output_type": "error",
     "traceback": [
      "Error in \"igraph\" %in% class(graph): object 'g' not found\nTraceback:\n",
      "1. plot(degree.distribution(g), main = \"Degree distribution of the movie network\", \n .     xlab = \"Degree\", ylab = \"Frequency\", type = \"h\")",
      "2. degree.distribution(g)",
      "3. is_igraph(graph)",
      "4. \"igraph\" %in% class(graph)"
     ]
    }
   ],
   "source": [
    "plot(degree.distribution(g), main=\"Degree distribution of the movie network\",xlab=\"Degree\",ylab=\"Frequency\", type=\"h\")"
   ]
  },
  {
   "cell_type": "code",
   "execution_count": null,
   "metadata": {},
   "outputs": [],
   "source": []
  },
  {
   "cell_type": "code",
   "execution_count": null,
   "metadata": {},
   "outputs": [],
   "source": []
  }
 ],
 "metadata": {
  "kernelspec": {
   "display_name": "R",
   "language": "R",
   "name": "ir"
  },
  "language_info": {
   "codemirror_mode": "r",
   "file_extension": ".r",
   "mimetype": "text/x-r-source",
   "name": "R",
   "pygments_lexer": "r",
   "version": "3.4.4"
  }
 },
 "nbformat": 4,
 "nbformat_minor": 2
}
