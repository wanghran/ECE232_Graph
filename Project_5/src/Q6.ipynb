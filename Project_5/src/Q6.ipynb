{
 "cells": [
  {
   "cell_type": "code",
   "execution_count": 66,
   "metadata": {},
   "outputs": [],
   "source": [
    "library(igraph)"
   ]
  },
  {
   "cell_type": "code",
   "execution_count": 85,
   "metadata": {},
   "outputs": [],
   "source": [
    "G <- read.graph(\"../output/edge_list.txt\",format=\"ncol\",directed=FALSE)"
   ]
  },
  {
   "cell_type": "code",
   "execution_count": 82,
   "metadata": {},
   "outputs": [],
   "source": [
    "feat <- read.csv('../output/feat_list.txt', header=TRUE, sep='|')"
   ]
  },
  {
   "cell_type": "code",
   "execution_count": 86,
   "metadata": {},
   "outputs": [],
   "source": [
    "G <- set_vertex_attr(G, 'display_name', index=V(G), value=as.character(feat$name))"
   ]
  },
  {
   "cell_type": "code",
   "execution_count": 88,
   "metadata": {},
   "outputs": [],
   "source": [
    "G <- set_vertex_attr(G, 'location', index=V(G), value=as.character(feat$coordinate))"
   ]
  },
  {
   "cell_type": "code",
   "execution_count": 93,
   "metadata": {},
   "outputs": [],
   "source": [
    "group <- decompose.graph(G)"
   ]
  },
  {
   "cell_type": "code",
   "execution_count": 95,
   "metadata": {},
   "outputs": [
    {
     "data": {
      "text/html": [
       "1880"
      ],
      "text/latex": [
       "1880"
      ],
      "text/markdown": [
       "1880"
      ],
      "text/plain": [
       "[1] 1880"
      ]
     },
     "metadata": {},
     "output_type": "display_data"
    }
   ],
   "source": [
    "vcount(group[[1]])"
   ]
  },
  {
   "cell_type": "code",
   "execution_count": 98,
   "metadata": {},
   "outputs": [
    {
     "data": {
      "text/html": [
       "311802"
      ],
      "text/latex": [
       "311802"
      ],
      "text/markdown": [
       "311802"
      ],
      "text/plain": [
       "[1] 311802"
      ]
     },
     "metadata": {},
     "output_type": "display_data"
    }
   ],
   "source": [
    "ecount(group[[1]])"
   ]
  },
  {
   "cell_type": "code",
   "execution_count": 103,
   "metadata": {},
   "outputs": [
    {
     "data": {
      "text/html": [
       "1879"
      ],
      "text/latex": [
       "1879"
      ],
      "text/markdown": [
       "1879"
      ],
      "text/plain": [
       "[1] 1879"
      ]
     },
     "metadata": {},
     "output_type": "display_data"
    }
   ],
   "source": [
    "new_G <- group[[1]]\n",
    "spanning_tree <- mst(new_G)\n",
    "ecount(spanning_tree)"
   ]
  },
  {
   "cell_type": "code",
   "execution_count": 105,
   "metadata": {},
   "outputs": [
    {
     "data": {
      "text/plain": [
       "+ 1879/1879 edges from 12f1c25 (vertex names):\n",
       " [1] 828 --1624 1450--1732 721 --455  1484--1550 2022--749  2620--2349\n",
       " [7] 2633--2219 2052--246  1014--1623 965 --1780 685 --2249 1909--719 \n",
       "[13] 1117--2119 308 --1847 1530--2214 436 --2173 1283--1887 1689--642 \n",
       "[19] 1456--410  1524--1523 886 --1030 1849--1848 1062--593  2534--485 \n",
       "[25] 2239--1399 2488--2653 2452--314  919 --1911 2523--2149 939 --599 \n",
       "[31] 1753--974  2110--1170 650 --206  2522--1943 1814--1148 2496--1696\n",
       "[37] 1453--1752 1748--2510 1255--2161 2611--1093 1759--1762 892 --622 \n",
       "[43] 2355--2394 827 --2192 897 --2122 1027--1642 1938--2631 2025--2273\n",
       "[49] 1335--1334 1928--1926 1978--1426 750 --877  986 --178  722 --2535\n",
       "[55] 1361--1358 2272--1185 2562--1156 701 --2402 2607--2240 146 --2067\n",
       "+ ... omitted several edges"
      ]
     },
     "metadata": {},
     "output_type": "display_data"
    }
   ],
   "source": [
    "E(spanning_tree)"
   ]
  },
  {
   "cell_type": "code",
   "execution_count": 116,
   "metadata": {},
   "outputs": [
    {
     "data": {
      "text/html": [
       "'4200 Amargosa Drive, Antioch'"
      ],
      "text/latex": [
       "'4200 Amargosa Drive, Antioch'"
      ],
      "text/markdown": [
       "'4200 Amargosa Drive, Antioch'"
      ],
      "text/plain": [
       "[1] \"4200 Amargosa Drive, Antioch\""
      ]
     },
     "metadata": {},
     "output_type": "display_data"
    },
    {
     "data": {
      "text/html": [
       "'2900 Roosevelt Lane, Antioch'"
      ],
      "text/latex": [
       "'2900 Roosevelt Lane, Antioch'"
      ],
      "text/markdown": [
       "'2900 Roosevelt Lane, Antioch'"
      ],
      "text/plain": [
       "[1] \"2900 Roosevelt Lane, Antioch\""
      ]
     },
     "metadata": {},
     "output_type": "display_data"
    }
   ],
   "source": [
    "V(spanning_tree)[V(spanning_tree)$name=='828']$display_name\n",
    "V(spanning_tree)[V(spanning_tree)$name=='1624']$display_name"
   ]
  },
  {
   "cell_type": "code",
   "execution_count": 118,
   "metadata": {},
   "outputs": [
    {
     "data": {
      "text/html": [
       "'29300 Lassen Street, Tennyson - Alquire, Hayward'"
      ],
      "text/latex": [
       "'29300 Lassen Street, Tennyson - Alquire, Hayward'"
      ],
      "text/markdown": [
       "'29300 Lassen Street, Tennyson - Alquire, Hayward'"
      ],
      "text/plain": [
       "[1] \"29300 Lassen Street, Tennyson - Alquire, Hayward\""
      ]
     },
     "metadata": {},
     "output_type": "display_data"
    },
    {
     "data": {
      "text/html": [
       "'30800 San Clemente Street, Hayward'"
      ],
      "text/latex": [
       "'30800 San Clemente Street, Hayward'"
      ],
      "text/markdown": [
       "'30800 San Clemente Street, Hayward'"
      ],
      "text/plain": [
       "[1] \"30800 San Clemente Street, Hayward\""
      ]
     },
     "metadata": {},
     "output_type": "display_data"
    }
   ],
   "source": [
    "V(spanning_tree)[V(spanning_tree)$name=='1484']$display_name\n",
    "V(spanning_tree)[V(spanning_tree)$name=='1550']$display_name"
   ]
  },
  {
   "cell_type": "code",
   "execution_count": 119,
   "metadata": {},
   "outputs": [
    {
     "data": {
      "text/html": [
       "'3300 Rocky Mountain Drive, Alum Rock, San Jose'"
      ],
      "text/latex": [
       "'3300 Rocky Mountain Drive, Alum Rock, San Jose'"
      ],
      "text/markdown": [
       "'3300 Rocky Mountain Drive, Alum Rock, San Jose'"
      ],
      "text/plain": [
       "[1] \"3300 Rocky Mountain Drive, Alum Rock, San Jose\""
      ]
     },
     "metadata": {},
     "output_type": "display_data"
    },
    {
     "data": {
      "text/html": [
       "'2200 Vista Verde Drive, East San Jose, San Jose'"
      ],
      "text/latex": [
       "'2200 Vista Verde Drive, East San Jose, San Jose'"
      ],
      "text/markdown": [
       "'2200 Vista Verde Drive, East San Jose, San Jose'"
      ],
      "text/plain": [
       "[1] \"2200 Vista Verde Drive, East San Jose, San Jose\""
      ]
     },
     "metadata": {},
     "output_type": "display_data"
    }
   ],
   "source": [
    "V(spanning_tree)[V(spanning_tree)$name=='2523']$display_name\n",
    "V(spanning_tree)[V(spanning_tree)$name=='2149']$display_name"
   ]
  },
  {
   "cell_type": "code",
   "execution_count": 153,
   "metadata": {
    "hideOutput": true
   },
   "outputs": [],
   "source": [
    "triangle_list <- triangles(new_G)\n",
    "node_sample <- seq(1, length(triangle_list)/3 - 1)"
   ]
  },
  {
   "cell_type": "code",
   "execution_count": 154,
   "metadata": {},
   "outputs": [],
   "source": [
    "node_list <- sample(node_sample, 1000)"
   ]
  },
  {
   "cell_type": "code",
   "execution_count": 167,
   "metadata": {},
   "outputs": [],
   "source": [
    "triangle_ineq <- function(e1, e2, e3) {\n",
    "    if (e1 + e2 > e3) {\n",
    "        return (1)\n",
    "    }else if (e2 + e3 > e1) {\n",
    "        return (1)\n",
    "    }else if (e1 + e3 > e2) {\n",
    "        return (1)\n",
    "    }else {\n",
    "        return (0)\n",
    "    }\n",
    "}"
   ]
  },
  {
   "cell_type": "code",
   "execution_count": 178,
   "metadata": {},
   "outputs": [
    {
     "ename": "ERROR",
     "evalue": "Error in as.igraph.vs(graph, vp): Invalid vertex names\n",
     "output_type": "error",
     "traceback": [
      "Error in as.igraph.vs(graph, vp): Invalid vertex names\nTraceback:\n",
      "1. get.edge.ids(new_G, vp = c(x, y))",
      "2. as.igraph.vs(graph, vp)",
      "3. stop(\"Invalid vertex names\")"
     ]
    }
   ],
   "source": [
    "count = 0\n",
    "for (i in node_list) {\n",
    "    edge <- E(new_G)\n",
    "    x <- as.character(triangle_list[i * 3])\n",
    "    y <- as.character(triangle_list[i * 3 + 1])\n",
    "    z <- as.character(triangle_list[i * 3 + 2])\n",
    "    e1 <- get.edge.ids(new_G, vp=c(x, y))\n",
    "    e2 <- get.edge.ids(new_G, vp=c(x, z))\n",
    "    e3 <- get.edge.ids(new_G, vp=c(y, z))\n",
    "    e1_len <- edge[e1]$weight\n",
    "    e2_len <- edge[e2]$weight\n",
    "    e3_len <- edge[e3]$weight\n",
    "    count = count + triangle_ineq(e1_len, e2_len, e3_len)\n",
    "}\n",
    "percentage <- count / 1000"
   ]
  },
  {
   "cell_type": "code",
   "execution_count": 196,
   "metadata": {
    "scrolled": true
   },
   "outputs": [],
   "source": [
    "x <- as.character(triangle_list[17986752 * 3])\n",
    "y <- as.character(triangle_list[17986752 * 3 + 1])\n",
    "z <- as.character(triangle_list[17986752 * 3 + 2])"
   ]
  },
  {
   "cell_type": "code",
   "execution_count": 207,
   "metadata": {},
   "outputs": [
    {
     "data": {
      "text/plain": [
       "+ 1/1880 vertex, named, from c9133d8:\n",
       "[1] 1988"
      ]
     },
     "metadata": {},
     "output_type": "display_data"
    }
   ],
   "source": [
    "triangle_list[length(triangle_list)]"
   ]
  },
  {
   "cell_type": "code",
   "execution_count": 209,
   "metadata": {},
   "outputs": [
    {
     "data": {
      "text/html": [
       "'797'"
      ],
      "text/latex": [
       "'797'"
      ],
      "text/markdown": [
       "'797'"
      ],
      "text/plain": [
       "[1] \"797\""
      ]
     },
     "metadata": {},
     "output_type": "display_data"
    }
   ],
   "source": [
    "x"
   ]
  },
  {
   "cell_type": "code",
   "execution_count": 210,
   "metadata": {},
   "outputs": [
    {
     "data": {
      "text/plain": [
       "+ 0/1880 vertices, named, from c9133d8:"
      ]
     },
     "metadata": {},
     "output_type": "display_data"
    }
   ],
   "source": [
    "V(new_G)[V(new_G)$name == x]"
   ]
  },
  {
   "cell_type": "code",
   "execution_count": null,
   "metadata": {},
   "outputs": [],
   "source": []
  }
 ],
 "metadata": {
  "kernelspec": {
   "display_name": "R",
   "language": "R",
   "name": "ir"
  },
  "language_info": {
   "codemirror_mode": "r",
   "file_extension": ".r",
   "mimetype": "text/x-r-source",
   "name": "R",
   "pygments_lexer": "r",
   "version": "3.4.4"
  }
 },
 "nbformat": 4,
 "nbformat_minor": 2
}
