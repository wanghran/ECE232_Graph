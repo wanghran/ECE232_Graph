{
 "cells": [
  {
   "cell_type": "code",
   "execution_count": null,
   "metadata": {},
   "outputs": [
    {
     "name": "stderr",
     "output_type": "stream",
     "text": [
      "Installing package into ‘/home/linzuo/R/x86_64-pc-linux-gnu-library/3.2’\n",
      "(as ‘lib’ is unspecified)\n"
     ]
    },
    {
     "name": "stdout",
     "output_type": "stream",
     "text": [
      "\n",
      "The downloaded source packages are in\n",
      "\t‘/tmp/RtmpKFaHB6/downloaded_packages’\n"
     ]
    },
    {
     "name": "stderr",
     "output_type": "stream",
     "text": [
      "Downloading GitHub repo igraph/rigraph@master\n",
      "from URL https://api.github.com/repos/igraph/rigraph/zipball/master\n",
      "Installing igraph\n",
      "Installing irlba\n",
      "'/usr/lib/R/bin/R' --no-site-file --no-environ --no-save --no-restore --quiet  \\\n",
      "  CMD INSTALL '/tmp/RtmpKFaHB6/devtools35864cc7cc1c/irlba'  \\\n",
      "  --library='/home/linzuo/R/x86_64-pc-linux-gnu-library/3.2' --install-tests \n",
      "\n",
      "'/usr/lib/R/bin/R' --no-site-file --no-environ --no-save --no-restore --quiet  \\\n",
      "  CMD INSTALL '/tmp/RtmpKFaHB6/devtools3586447594d8/igraph-rigraph-057cc9d'  \\\n",
      "  --library='/home/linzuo/R/x86_64-pc-linux-gnu-library/3.2' --install-tests \n",
      "\n"
     ]
    }
   ],
   "source": [
    "install.packages(\"devtools\")\n",
    "library(devtools)\n",
    "install_github(\"igraph/rigraph\")"
   ]
  },
  {
   "cell_type": "code",
   "execution_count": 3,
   "metadata": {},
   "outputs": [
    {
     "ename": "ERROR",
     "evalue": "Error in library(\"igraph\"): there is no package called ‘igraph’\n",
     "output_type": "error",
     "traceback": [
      "Error in library(\"igraph\"): there is no package called ‘igraph’\nTraceback:\n",
      "1. library(\"igraph\")",
      "2. stop(txt, domain = NA)"
     ]
    }
   ],
   "source": [
    "library('igraph')\n",
    "g <- read_graph('../output/stock_edgelist.txt', format='ncol', directed=FALSE)"
   ]
  }
 ],
 "metadata": {
  "kernelspec": {
   "display_name": "R",
   "language": "R",
   "name": "ir"
  },
  "language_info": {
   "codemirror_mode": "r",
   "file_extension": ".r",
   "mimetype": "text/x-r-source",
   "name": "R",
   "pygments_lexer": "r",
   "version": "3.2.3"
  }
 },
 "nbformat": 4,
 "nbformat_minor": 2
}
